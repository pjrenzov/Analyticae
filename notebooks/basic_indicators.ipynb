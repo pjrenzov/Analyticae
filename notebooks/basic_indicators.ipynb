{
 "cells": [
  {
   "cell_type": "markdown",
   "id": "eb02f47b",
   "metadata": {},
   "source": [
    "This section will show you how to use technical analysis to build trading signals. We will start with one of the most common methods, the simple moving average, and we will discuss more advanced techniques along the way. Here is a list of the signals we will cover:\n",
    "\n",
    "    1)Simple Moving Average (SMA)\n",
    "    2)Exponential Moving Average (EMA)\n",
    "    3)Absolute Price Oscillator (APO)\n",
    "    4)Moving Average Convergence Divergence (MACD) Bollinger Bands (BBANDS)\n",
    "    5)Relative Strength Indicator (RSI) Standard Deviation (STDEV) Momentum (MOM)"
   ]
  },
  {
   "cell_type": "markdown",
   "id": "2dca4075",
   "metadata": {},
   "source": [
    "# simple moving average\n",
    "\n",
    "Simple moving average, which we will refer to as SMA, is a basic technical analysis indicator. The simple moving average, as you may have guessed from its name, is computed by adding up the price of an instrument over a certain period of time divided by the number of time periods. It is basically the price average over a certain time period, with equal weight being used for each price. The time period over which it is averaged is often referred to as the lookback period or history."
   ]
  },
  {
   "cell_type": "code",
   "execution_count": 2,
   "id": "deb14cde",
   "metadata": {},
   "outputs": [],
   "source": [
    "def SMA(price, period = 20):\n",
    "    history = []\n",
    "    sma_values = []\n",
    "    \n",
    "    for current_price in price:\n",
    "        history.append(current_price)\n",
    "        \n",
    "        if len(history)>period:\n",
    "            del (history[0])\n",
    "        \n",
    "        sma_values.append(stats.mean(history))\n",
    "        \n",
    "    return sma_values"
   ]
  },
  {
   "cell_type": "markdown",
   "id": "9b96a361",
   "metadata": {},
   "source": [
    "# Exponential Moving Average\n",
    "\n",
    "The EMA is similar to the simple moving average, but, instead of weighing all prices in the history equally, it places more weight on the most recent price observation and less weight on the older price observations. This is endeavoring to capture the intuitive idea that the new price observation has more up-to-date information than prices in the past. It is also possible to place more weight on older price observations and less weight on the newer price observations. This would try to capture the idea that longer-term trends have more information than short-term volatile price movements.\n",
    "The weighting depends on the selected time period of the EMA; the shorter the time period, the more reactive the EMA is to new price observations; in other words, the EMA converges to new price observations faster and forgets older observations faster, also referred to as Fast EMA. The longer the time period, the less reactive the EMA is to new price observations; that is, EMA converges to new price observations slower and forgets older observations slower, also referred to as Slow EMA.\n",
    "Based on the description of EMA, it is formulated as a weight factor, U  , applied to new price observations and a weight factor applied to the current value of EMA to get the new value of EMA. Since the sum of the weights should be 1 to keep the EMA units the same as price units, that is, $s, the weight factor applied to EMA values turns out to be 1-U  . Hence, we get the following two formulations of new EMA values based on old EMA values and new price observations, which are the same definitions, written in two different forms:\n",
    "\n",
    "    EMA = (P-EMA_old)*U+EMA_old\n",
    "    EMA = P*U+(1-U)*EMA_old\n",
    "    \n",
    "    here U->smoothing factor, most commonly set to 2/(N+1)"
   ]
  },
  {
   "cell_type": "code",
   "execution_count": 3,
   "id": "f09d1898",
   "metadata": {},
   "outputs": [],
   "source": [
    "def EMA(price, period = 20, U = None):\n",
    "    if U == None:\n",
    "        U = 2/(period + 1)\n",
    "        \n",
    "    EMA_p = 0\n",
    "    EMA_values = []\n",
    "    \n",
    "    for current_price in price:\n",
    "        if EMA_p == 0:\n",
    "            EMA_p = current_price\n",
    "        else:\n",
    "            EMA_p = (current_price - EMA_p)*U + EMA_p\n",
    "            \n",
    "        EMA_values.append(EMA_p)\n",
    "        \n",
    "    return EMA_values"
   ]
  },
  {
   "cell_type": "markdown",
   "id": "4bcb5233",
   "metadata": {},
   "source": [
    "# Absolute Price Osillator\n",
    "\n",
    "The absolute price oscillator, which we will refer to as APO, is a class of indicators that builds on top of moving averages of prices to capture specific short-term deviations in prices.\n",
    "The absolute price oscillator is computed by finding the difference between a fast exponential moving average and a slow exponential moving average. Intuitively, it is trying to measure how far the more reactive EMA (EMA_fast) is deviating from the more stable EMA (EMA_slow). A large difference is usually interpreted as one of two things: instrument prices are starting to trend or break out, or instrument prices are far away from their equilibrium prices, in other words, overbought or oversold:\n",
    "                APO = EMA_fast - EMA_slow"
   ]
  },
  {
   "cell_type": "code",
   "execution_count": 4,
   "id": "f9a5e4c3",
   "metadata": {},
   "outputs": [],
   "source": [
    "def APO(price, period_fast = 10, period_slow = 40, U_fast = None, U_slow = None):\n",
    "    if U_fast == None:\n",
    "        U_fast = 2/(period_fast + 1)\n",
    "    if U_slow == None:\n",
    "        U_slow = 2/(period_slow + 1)\n",
    "    \n",
    "    EMA_fast = EMA(price, period=period_fast, U=U_fast)\n",
    "    EMA_slow = EMA(price,period=period_slow, U=U_slow)\n",
    "    \n",
    "    return list(np.array(EMA_fast) - np.array(EMA_slow))"
   ]
  },
  {
   "cell_type": "markdown",
   "id": "e5c0f9c4",
   "metadata": {},
   "source": [
    "# Moving Average Convergence Divergence\n",
    "\n",
    "The moving average convergence divergence was created by Gerald Appel. It is similar in spirit to an absolute price oscillator in that it establishes the difference between a fast exponential moving average and a slow exponential moving average. However, in the case of MACD, we apply a smoothing exponential moving average to the MACD value itself in order to get the final signal output from the MACD indicator. Optionally, you may also look at the difference between MACD values and the EMA of the MACD values (signal) and visualize it as a histogram. A properly configured MACD signal can successfully capture the direction, magnitude, and duration of a trending instrument price:\n",
    "\n",
    "            MACD = EMA_fast - EMA_slow\n",
    "            MACD_signal = EMA(MACD)\n",
    "            MACD_histogram = MACD - MACD_signal"
   ]
  },
  {
   "cell_type": "code",
   "execution_count": 5,
   "id": "1710ea66",
   "metadata": {},
   "outputs": [],
   "source": [
    "def MACD(price, period_fast = 10, period_slow = 40, U_fast = None, U_slow = None, period_signal = 20,U_macd = None):\n",
    "    if U_fast == None:\n",
    "        U_fast = 2/(period_fast + 1)\n",
    "    if U_slow == None:\n",
    "        U_slow = 2/(period_slow + 1)\n",
    "    if U_macd == None:\n",
    "        U_macd = 2/(period_signal + 1)\n",
    "        \n",
    "    MACD = APO(price, period_fast, period_slow, U_fast, U_slow)\n",
    "    MACD_signal = EMA(MACD, period_signal,U=U_macd)\n",
    "    MACD_histogram = list(np.array(MACD) - np.array(MACD_signal))\n",
    "    \n",
    "    return [MACD, MACD_signal, MACD_histogram]\n",
    "    \n",
    "        "
   ]
  },
  {
   "cell_type": "markdown",
   "id": "a0e86337",
   "metadata": {},
   "source": [
    "# Bollinger Band\n",
    "\n",
    "Bollinger bands is a well-known technical analysis indicator developed by John Bollinger. It computes a moving average of the prices (you can use the simple moving average or the exponential moving average or any other variant). In addition, it computes the standard deviation of the prices in the lookback period by treating the moving average as the mean price. It then creates an upper band that is a moving average, plus some multiple of standard price deviations, and a lower band that is a moving average minus multiple standard price deviations. This band represents the expected volatility of the prices by treating the moving average of the price as the reference price. Now, when prices move outside of these bands, that can be interpreted as a breakout/trend signal or an overbought/sold mean reversion signal.\n",
    "\n",
    "Let's look at the equations to compute the upper Bollinger band,and the lower Bollinger band.Both depend,in the first instance, on the middle Bollinger band,which is simply the simple moving average of the previous N-period time periods( in this case, the last   days ) denoted by . The upper and lower bands are then computed by adding/subtracting to , which is the product of standard deviation,sigma, which we've seen before, and beta, which is a standard deviation factor of our choice. The larger the value of   chosen, the greater the Bollinger bandwidth for our signal, so it is just a parameter that controls the width in our trading signal:\n",
    "\n",
    "                BBAND_middle = any averaging technique\n",
    "                BBAND_upper = BBAND_middle + (beta*sigma)\n",
    "                BBAND_lower = BBAND_middle - (beta*sigma)\n"
   ]
  },
  {
   "cell_type": "code",
   "execution_count": 6,
   "id": "b487c55a",
   "metadata": {},
   "outputs": [],
   "source": [
    "def bBand(price, beta = 2, average = 'SMA', period = 20, U=None):\n",
    "    history = []\n",
    "    upper_band = []\n",
    "    lower_band = []\n",
    "    \n",
    "    if average=='SMA':\n",
    "        avg = SMA(price, period=period)\n",
    "    if average=='EMA':\n",
    "        avg = EMA(price,period,U)\n",
    "    \n",
    "    for index in range(len(price)):\n",
    "        history.append(price[index])\n",
    "        if len(history)>period:\n",
    "            del history[0]\n",
    "            \n",
    "        variance = 0\n",
    "        \n",
    "        for hist_price in history:\n",
    "            variance = variance + ((hist_price - avg[index])**2)\n",
    "        \n",
    "        sigma = math.sqrt(variance/len(history))\n",
    "        \n",
    "        upper_band.append(avg[index] + beta*sigma)\n",
    "        lower_band.append(avg[index] - beta*sigma)\n",
    "    \n",
    "    return [upper_band,avg,lower_band]"
   ]
  },
  {
   "cell_type": "markdown",
   "id": "1a1fc1d4",
   "metadata": {},
   "source": [
    "# Relative Strength Indicator\n",
    "The relative strength indicator, which we will refer to as RSI, is quite different from the previous indicators we saw that were based on moving averages of prices. This is based on price changes over periods to capture the strength/magnitude of price moves.\n",
    "\n",
    "             For the last n periods, the following applies:\n",
    "                 Price>PriviousPrice => AbsoluteLossOverPeriod = 0\n",
    "             Otherwise, the following applies:\n",
    "                 AbsoluteLossOverPeriod = PriviousPrice - Price\n",
    "                 Price<PriviousPrice => AbsoluteGainOverPeriod = 0\n",
    "             Otherwise, the following applies:\n",
    "                 AbsoluteGainOverPeriod = Price - PriviousPrice\n",
    "                 \n",
    "             RelativeStrength(RS) = sum(|GainOverLastNPeriod|)/sum(|LossOverLastNPeriod|)\n",
    "             RelativeStrengthIndicator = 100 - 100/(1+RS)"
   ]
  },
  {
   "cell_type": "code",
   "execution_count": 7,
   "id": "e6c101f7",
   "metadata": {},
   "outputs": [],
   "source": [
    "def RSI(close, period = 20):\n",
    "    gain_history = []\n",
    "    loss_history = []\n",
    "    \n",
    "    avg_gain_values = [] \n",
    "    avg_loss_values = [] \n",
    "    \n",
    "    rsi_values = []\n",
    "    \n",
    "    last_price = 0\n",
    "    \n",
    "    for close_price in close:\n",
    "        if last_price == 0:\n",
    "            last_price = close_price\n",
    "        gain_history.append(max(0, close_price - last_price))\n",
    "        loss_history.append(max(0, last_price - close_price))\n",
    "        last_price = close_price\n",
    "        if len(gain_history) > period: \n",
    "            del (gain_history[0])\n",
    "            del (loss_history[0])\n",
    "        avg_gain = stats.mean(gain_history) # average gain over lookback period\n",
    "        avg_loss = stats.mean(loss_history) # average loss over lookback period\n",
    "        avg_gain_values.append(avg_gain)\n",
    "        avg_loss_values.append(avg_loss)\n",
    "        rs = 0\n",
    "        if avg_loss > 0: \n",
    "            rs = avg_gain / avg_loss\n",
    "        rsi = 100 - (100 / (1 + rs))\n",
    "        rsi_values.append(rsi)\n",
    "        \n",
    "    return rsi_values"
   ]
  },
  {
   "cell_type": "markdown",
   "id": "37632b9e",
   "metadata": {},
   "source": [
    "# Standard Deviation\n",
    "\n",
    "Standard deviation is a standard measure that is computed by measuring the squared deviation of individual prices from the mean price, and then finding the average of all those squared deviation values. This value is known as variance, and the standard deviation is obtained by taking the square root of the variance. Larger STDEVs are a mark of more volatile markets or larger expected price moves, so trading strategies need to factor that increased volatility into risk estimates and other trading behavior."
   ]
  },
  {
   "cell_type": "code",
   "execution_count": 8,
   "id": "be40645b",
   "metadata": {},
   "outputs": [],
   "source": [
    "def standardDeviation(close, period = 20):\n",
    "    history = []\n",
    "    sma_values = []\n",
    "    stddev_values = []\n",
    "    \n",
    "    for close_price in close:\n",
    "        history.append(close_price)\n",
    "        if len(history)>period:\n",
    "            del history[0]\n",
    "            \n",
    "        sma = stats.mean(history)\n",
    "        sma_values.append(sma)\n",
    "        \n",
    "        variance = 0\n",
    "        \n",
    "        for hist_price in history:\n",
    "            variance = variance + ((hist_price - sma) ** 2)\n",
    "        stdev = math.sqrt(variance / len(history))\n",
    "        stddev_values.append(stdev)\n",
    "    \n",
    "    return stddev_values"
   ]
  },
  {
   "cell_type": "markdown",
   "id": "a06ed991",
   "metadata": {},
   "source": [
    "# Momentum\n",
    "In its simplest form, momentum is simply the difference between the current price and price of some fixed time periods in the past. Consecutive periods of positive momentum values indicate an uptrend; conversely, if momentum is consecutively negative, that indicates a downtrend."
   ]
  },
  {
   "cell_type": "code",
   "execution_count": 9,
   "id": "7cb8b79c",
   "metadata": {},
   "outputs": [],
   "source": [
    "def momentum(close,period=20):\n",
    "    history = []\n",
    "    momentum_values = []\n",
    "    \n",
    "    for close_price in close:\n",
    "        history.append(close_price)\n",
    "        if len(history)>period:\n",
    "            del history[0]\n",
    "            \n",
    "        mom = close_price - history[0]\n",
    "        momentum_values.append(mom)\n",
    "    return momentum_values"
   ]
  }
 ],
 "metadata": {
  "kernelspec": {
   "display_name": "Python 3",
   "language": "python",
   "name": "python3"
  },
  "language_info": {
   "codemirror_mode": {
    "name": "ipython",
    "version": 3
   },
   "file_extension": ".py",
   "mimetype": "text/x-python",
   "name": "python",
   "nbconvert_exporter": "python",
   "pygments_lexer": "ipython3",
   "version": "3.9.4"
  }
 },
 "nbformat": 4,
 "nbformat_minor": 5
}
