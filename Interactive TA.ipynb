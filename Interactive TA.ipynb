{
 "cells": [
  {
   "cell_type": "code",
   "execution_count": 1,
   "id": "9a4f70bf",
   "metadata": {},
   "outputs": [],
   "source": [
    "import ipywidgets as wd\n",
    "import cufflinks as cf\n",
    "import pandas as pd\n",
    "import yfinance as yf\n",
    "from plotly.offline import iplot, init_notebook_mode\n",
    "from ipywidgets import interact, interact_manual\n",
    "from src.stock import Stock"
   ]
  },
  {
   "cell_type": "code",
   "execution_count": 2,
   "id": "0053f5ef",
   "metadata": {},
   "outputs": [
    {
     "data": {
      "text/html": [
       "        <script type=\"text/javascript\">\n",
       "        window.PlotlyConfig = {MathJaxConfig: 'local'};\n",
       "        if (window.MathJax) {MathJax.Hub.Config({SVG: {font: \"STIX-Web\"}});}\n",
       "        if (typeof require !== 'undefined') {\n",
       "        require.undef(\"plotly\");\n",
       "        requirejs.config({\n",
       "            paths: {\n",
       "                'plotly': ['https://cdn.plot.ly/plotly-latest.min']\n",
       "            }\n",
       "        });\n",
       "        require(['plotly'], function(Plotly) {\n",
       "            window._Plotly = Plotly;\n",
       "        });\n",
       "        }\n",
       "        </script>\n",
       "        "
      ]
     },
     "metadata": {},
     "output_type": "display_data"
    },
    {
     "data": {
      "text/html": [
       "        <script type=\"text/javascript\">\n",
       "        window.PlotlyConfig = {MathJaxConfig: 'local'};\n",
       "        if (window.MathJax) {MathJax.Hub.Config({SVG: {font: \"STIX-Web\"}});}\n",
       "        if (typeof require !== 'undefined') {\n",
       "        require.undef(\"plotly\");\n",
       "        requirejs.config({\n",
       "            paths: {\n",
       "                'plotly': ['https://cdn.plot.ly/plotly-latest.min']\n",
       "            }\n",
       "        });\n",
       "        require(['plotly'], function(Plotly) {\n",
       "            window._Plotly = Plotly;\n",
       "        });\n",
       "        }\n",
       "        </script>\n",
       "        "
      ]
     },
     "metadata": {},
     "output_type": "display_data"
    }
   ],
   "source": [
    "init_notebook_mode(connected=True)\n",
    "cf.go_offline()"
   ]
  },
  {
   "cell_type": "code",
   "execution_count": 3,
   "id": "ad0fcb19",
   "metadata": {},
   "outputs": [],
   "source": [
    "start_date = '2018-12-01'    \n",
    "end_date = '2021-05-17'"
   ]
  },
  {
   "cell_type": "code",
   "execution_count": 4,
   "id": "ca6c763d",
   "metadata": {},
   "outputs": [],
   "source": [
    "stocks = ['TWTR']\n",
    "indicators = ['Bollinger Bands', 'MACD', 'RSI']"
   ]
  },
  {
   "cell_type": "code",
   "execution_count": 5,
   "id": "bae8e3b8",
   "metadata": {},
   "outputs": [],
   "source": [
    "def ta_dashboard(asset,indicator,start_date, end_date,bb_k, bb_n, macd_fast, macd_slow, macd_signal,\n",
    "                             rsi_periods, rsi_upper, rsi_lower):\n",
    "    df = yf.download(asset,\n",
    "                     start=start_date,\n",
    "                     end=end_date,\n",
    "                     progress=False,\n",
    "                     auto_adjust=True)\n",
    "    qf = cf.QuantFig(df, title=f'TA Dashboard - {asset}', legend='right', name=f'{asset}')\n",
    "    if 'Bollinger Bands' in indicator:\n",
    "             qf.add_bollinger_bands(periods=bb_n,\n",
    "                                    boll_std=bb_k)\n",
    "    if 'MACD' in indicator:\n",
    "         qf.add_macd(fast_period=macd_fast,\n",
    "                     slow_period=macd_slow,\n",
    "                     signal_period=macd_signal)\n",
    "    if 'RSI' in indicator: \n",
    "         qf.add_rsi(periods=rsi_periods,\n",
    "                    rsi_upper=rsi_upper,\n",
    "                    rsi_lower=rsi_lower,\n",
    "                    showbands=True)\n",
    "    return qf.iplot()"
   ]
  },
  {
   "cell_type": "code",
   "execution_count": 6,
   "id": "a088d4b4",
   "metadata": {},
   "outputs": [],
   "source": [
    "#define selectors\n",
    "stocks_selector = wd.Dropdown(\n",
    "         options=stocks,\n",
    "         value=stocks[0],\n",
    "         description='Asset'\n",
    "     )\n",
    "indicator_selector = wd.SelectMultiple(description='Indicator',\n",
    "                                        options=indicators,\n",
    "                                        value=[indicators[0]])\n",
    "start_date_selector = wd.DatePicker(description='Start Date',\n",
    "                                    value=pd.to_datetime('2018-01-01'),\n",
    "                                    continuous_update=False)\n",
    "end_date_selector = wd.DatePicker(description='End Date',\n",
    "                                    value=pd.to_datetime('2018-12-31'),\n",
    "                                    continuous_update=False)"
   ]
  },
  {
   "cell_type": "code",
   "execution_count": 7,
   "id": "ed0c5fd6",
   "metadata": {},
   "outputs": [],
   "source": [
    "#Define a label, and group the selectors inside a container\n",
    "main_selector_label = wd.Label('Main parameters',\n",
    "                              layout=wd.Layout(height='45px'))\n",
    "main_selector_box = wd.VBox(children=[main_selector_label,\n",
    "                             stocks_selector,\n",
    "                             indicator_selector,\n",
    "                             start_date_selector,\n",
    "                             end_date_selector])"
   ]
  },
  {
   "cell_type": "code",
   "execution_count": 8,
   "id": "60d67b21",
   "metadata": {},
   "outputs": [],
   "source": [
    "#Define the secondary selectors for the Bollinger Bands:\n",
    "bb_label = wd.Label('Bollinger Bands')\n",
    "n_param = wd.IntSlider(value=20, min=1, max=40, step=1,\n",
    "                      description='N:', continuous_update=False)\n",
    "k_param = wd.FloatSlider(value=2, min=0.5, max=4, step=0.5,\n",
    "                        description='k:', continuous_update=False)\n",
    "bollinger_box = wd.VBox(children=[bb_label, n_param, k_param])"
   ]
  },
  {
   "cell_type": "code",
   "execution_count": 9,
   "id": "a056f933",
   "metadata": {},
   "outputs": [],
   "source": [
    "#Define the secondary selectors for the MACD\n",
    "macd_label = wd.Label('MACD')\n",
    "macd_fast = wd.IntSlider(value=12, min=2, max=50, step=1,\n",
    "                                    description='Fast avg:',\n",
    "                                    continuous_update=False)\n",
    "macd_slow = wd.IntSlider(value=26, min=2, max=50, step=1,\n",
    "                                    description='Slow avg:',\n",
    "                                    continuous_update=False)\n",
    "macd_signal = wd.IntSlider(value=9, min=2, max=50, step=1,\n",
    "                                      description='MACD signal:',\n",
    "                                      continuous_update=False)\n",
    "macd_box = wd.VBox(children=[macd_label, macd_fast,\n",
    "                                        macd_slow, macd_signal])"
   ]
  },
  {
   "cell_type": "code",
   "execution_count": 10,
   "id": "f17fba52",
   "metadata": {},
   "outputs": [],
   "source": [
    "#Define the secondary selectors for the RSI\n",
    "rsi_label = wd.Label('RSI')\n",
    "rsi_periods = wd.IntSlider(value=14, min=2, max=50, step=1,\n",
    "                          description='RSI periods:',\n",
    "                          continuous_update=False)\n",
    "rsi_upper = wd.IntSlider(value=70, min=1, max=100, step=1,\n",
    "                        description='Upper Thr:',\n",
    "                        continuous_update=False)\n",
    "rsi_lower = wd.IntSlider(value=30, min=1, max=100, step=1,\n",
    "                        description='Lower Thr:',\n",
    "                        continuous_update=False)\n",
    "rsi_box = wd.VBox(children=[rsi_label, rsi_periods,\n",
    "                           rsi_upper, rsi_lower])"
   ]
  },
  {
   "cell_type": "code",
   "execution_count": 11,
   "id": "54943583",
   "metadata": {},
   "outputs": [],
   "source": [
    "#Create the labels and group the selectors into containers\n",
    "sec_selector_label = wd.Label('Secondary parameters',\n",
    "                                         layout=wd.Layout(height='45px'))\n",
    "blank_label = wd.Label('', layout=wd.Layout(height='45px'))\n",
    "sec_box_1 = wd.VBox([sec_selector_label, bollinger_box, macd_box])\n",
    "sec_box_2 = wd.VBox([blank_label, rsi_box])\n",
    "secondary_selector_box = wd.HBox([sec_box_1, sec_box_2])"
   ]
  },
  {
   "cell_type": "code",
   "execution_count": 12,
   "id": "85f48517",
   "metadata": {},
   "outputs": [
    {
     "name": "stdout",
     "output_type": "stream",
     "text": [
      "Done\n",
      "Done\n",
      "Done\n"
     ]
    }
   ],
   "source": [
    "#Group the boxes and prepare the interactive output\n",
    "controls_dict = {'asset':stocks_selector,\n",
    "                            'indicator':indicator_selector,\n",
    "                            'start_date':start_date_selector,\n",
    "                            'end_date':end_date_selector,\n",
    "                            'bb_k':k_param,\n",
    "                            'bb_n':n_param,\n",
    "                            'macd_fast': macd_fast,\n",
    "                            'macd_slow': macd_slow,\n",
    "                            'macd_signal': macd_signal,\n",
    "                            'rsi_periods': rsi_periods,\n",
    "                            'rsi_upper': rsi_upper,\n",
    "                            'rsi_lower': rsi_lower}\n",
    "print('Done')\n",
    "ui = wd.HBox([main_selector_box, secondary_selector_box])\n",
    "print('Done')\n",
    "out = wd.interactive_output(ta_dashboard, controls_dict)\n",
    "print('Done')"
   ]
  },
  {
   "cell_type": "code",
   "execution_count": 13,
   "id": "806b1f7d",
   "metadata": {},
   "outputs": [
    {
     "data": {
      "application/vnd.jupyter.widget-view+json": {
       "model_id": "c3c31113e1034404929c74627aafa4f1",
       "version_major": 2,
       "version_minor": 0
      },
      "text/plain": [
       "HBox(children=(VBox(children=(Label(value='Main parameters', layout=Layout(height='45px')), Dropdown(descripti…"
      ]
     },
     "metadata": {},
     "output_type": "display_data"
    },
    {
     "data": {
      "application/vnd.jupyter.widget-view+json": {
       "model_id": "05af211db4f24e38b65519417c423407",
       "version_major": 2,
       "version_minor": 0
      },
      "text/plain": [
       "Output()"
      ]
     },
     "metadata": {},
     "output_type": "display_data"
    }
   ],
   "source": [
    "display(ui, out)"
   ]
  },
  {
   "cell_type": "code",
   "execution_count": null,
   "id": "c9145161",
   "metadata": {},
   "outputs": [],
   "source": []
  }
 ],
 "metadata": {
  "kernelspec": {
   "display_name": "Python 3",
   "language": "python",
   "name": "python3"
  },
  "language_info": {
   "codemirror_mode": {
    "name": "ipython",
    "version": 3
   },
   "file_extension": ".py",
   "mimetype": "text/x-python",
   "name": "python",
   "nbconvert_exporter": "python",
   "pygments_lexer": "ipython3",
   "version": "3.9.4"
  }
 },
 "nbformat": 4,
 "nbformat_minor": 5
}
