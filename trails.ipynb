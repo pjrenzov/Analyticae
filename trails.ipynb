{
 "cells": [
  {
   "cell_type": "code",
   "execution_count": null,
   "id": "e70d616f",
   "metadata": {},
   "outputs": [],
   "source": [
    "from src import stock,blsh,support_resistence"
   ]
  },
  {
   "cell_type": "code",
   "execution_count": null,
   "id": "5856aee6",
   "metadata": {},
   "outputs": [],
   "source": [
    "symbol = 'BEL.NS'        #use yahoo symbols\n",
    "start_date = '2018-12-01'    #start dates for historical data\n",
    "end_date = '2021-05-17'"
   ]
  },
  {
   "cell_type": "code",
   "execution_count": null,
   "id": "efa5b9eb",
   "metadata": {},
   "outputs": [],
   "source": [
    "buy = stock.Stock(symbol, start_date, end_date)"
   ]
  },
  {
   "cell_type": "code",
   "execution_count": null,
   "id": "5272851c",
   "metadata": {},
   "outputs": [],
   "source": [
    "buy.load_data()"
   ]
  },
  {
   "cell_type": "code",
   "execution_count": null,
   "id": "0b50ea69",
   "metadata": {},
   "outputs": [],
   "source": [
    "buy.stock_data"
   ]
  },
  {
   "cell_type": "code",
   "execution_count": null,
   "id": "88bb243c",
   "metadata": {},
   "outputs": [],
   "source": [
    "bhel = support_resistence.supportAndResistence(buy)"
   ]
  },
  {
   "cell_type": "code",
   "execution_count": null,
   "id": "4a8f71fd",
   "metadata": {},
   "outputs": [],
   "source": [
    "bhel.generateSignal()"
   ]
  },
  {
   "cell_type": "code",
   "execution_count": null,
   "id": "aeb2f7a5",
   "metadata": {},
   "outputs": [],
   "source": [
    "bhel.signal"
   ]
  },
  {
   "cell_type": "code",
   "execution_count": null,
   "id": "b808fa30",
   "metadata": {},
   "outputs": [],
   "source": [
    "bhel.Call()"
   ]
  },
  {
   "cell_type": "code",
   "execution_count": null,
   "id": "faa6b972",
   "metadata": {},
   "outputs": [],
   "source": [
    "bhel.mostRecentCall()"
   ]
  },
  {
   "cell_type": "code",
   "execution_count": null,
   "id": "14063b93",
   "metadata": {},
   "outputs": [],
   "source": [
    "bhel.stock_data.loc['2021-05-05 00:00:00','Adj Close']"
   ]
  },
  {
   "cell_type": "code",
   "execution_count": null,
   "id": "ef088815",
   "metadata": {},
   "outputs": [],
   "source": [
    "stock_signal = bhel.signal\n",
    "\n",
    "import matplotlib.pyplot as plt\n",
    "fig = plt.figure()\n",
    "ax1 = fig.add_subplot(111, ylabel=symbol +' price in $')\n",
    "stock_signal['sup'].plot(ax=ax1, color='g', lw=2.)\n",
    "stock_signal['res'].plot(ax=ax1, color='b', lw=2.)\n",
    "stock_signal['price'].plot(ax=ax1, color='r', lw=2.)\n",
    "ax1.plot(stock_signal.loc[stock_signal.positions == 1.0].index,\n",
    "      stock_signal.price[stock_signal.positions == 1.0],\n",
    "      '^', markersize=7, color='k',label='buy')\n",
    "ax1.plot(stock_signal.loc[stock_signal.positions == -1.0].index,\n",
    "      stock_signal.price[stock_signal.positions == -1.0],\n",
    "      'v', markersize=7, color='k',label='sell')\n",
    "plt.legend()\n",
    "plt.show()"
   ]
  },
  {
   "cell_type": "code",
   "execution_count": null,
   "id": "bf8b4cb7",
   "metadata": {},
   "outputs": [],
   "source": [
    "bhel.stock_data"
   ]
  },
  {
   "cell_type": "code",
   "execution_count": null,
   "id": "caf90813",
   "metadata": {},
   "outputs": [],
   "source": [
    "bhel.SMA()"
   ]
  },
  {
   "cell_type": "code",
   "execution_count": null,
   "id": "68a0e80c",
   "metadata": {},
   "outputs": [],
   "source": [
    "bhel.EMA()"
   ]
  },
  {
   "cell_type": "code",
   "execution_count": null,
   "id": "cf908f7b",
   "metadata": {},
   "outputs": [],
   "source": [
    "bhel.APO()"
   ]
  },
  {
   "cell_type": "code",
   "execution_count": null,
   "id": "22202841",
   "metadata": {},
   "outputs": [],
   "source": [
    "bhel.returns(method='LOG')"
   ]
  },
  {
   "cell_type": "code",
   "execution_count": null,
   "id": "92aa8ebe",
   "metadata": {},
   "outputs": [],
   "source": [
    "bhel.returns()"
   ]
  },
  {
   "cell_type": "code",
   "execution_count": null,
   "id": "0b5d0d8b",
   "metadata": {},
   "outputs": [],
   "source": [
    "bhel.stock_data"
   ]
  },
  {
   "cell_type": "code",
   "execution_count": null,
   "id": "1174d42c",
   "metadata": {},
   "outputs": [],
   "source": [
    "buy.findOutliers()"
   ]
  },
  {
   "cell_type": "code",
   "execution_count": null,
   "id": "060a3023",
   "metadata": {},
   "outputs": [],
   "source": []
  }
 ],
 "metadata": {
  "kernelspec": {
   "display_name": "Python 3",
   "language": "python",
   "name": "python3"
  },
  "language_info": {
   "codemirror_mode": {
    "name": "ipython",
    "version": 3
   },
   "file_extension": ".py",
   "mimetype": "text/x-python",
   "name": "python",
   "nbconvert_exporter": "python",
   "pygments_lexer": "ipython3",
   "version": "3.9.4"
  }
 },
 "nbformat": 4,
 "nbformat_minor": 5
}
