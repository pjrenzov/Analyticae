{
 "cells": [
  {
   "cell_type": "code",
   "execution_count": 1,
   "id": "e70d616f",
   "metadata": {},
   "outputs": [],
   "source": [
    "from src import stock,blsh,support_resistence"
   ]
  },
  {
   "cell_type": "code",
   "execution_count": 2,
   "id": "5856aee6",
   "metadata": {},
   "outputs": [],
   "source": [
    "symbol = 'NG=F'        #use yahoo symbols\n",
    "start_date = '2018-12-01'    #start dates for historical data\n",
    "end_date = '2021-05-17'"
   ]
  },
  {
   "cell_type": "code",
   "execution_count": 3,
   "id": "efa5b9eb",
   "metadata": {},
   "outputs": [],
   "source": [
    "buy = stock.Stock(symbol, start_date, end_date)"
   ]
  },
  {
   "cell_type": "code",
   "execution_count": 4,
   "id": "76eb5396",
   "metadata": {},
   "outputs": [],
   "source": [
    "buy.load_data()"
   ]
  },
  {
   "cell_type": "code",
   "execution_count": 5,
   "id": "35c49451",
   "metadata": {},
   "outputs": [
    {
     "data": {
      "text/html": [
       "<div>\n",
       "<style scoped>\n",
       "    .dataframe tbody tr th:only-of-type {\n",
       "        vertical-align: middle;\n",
       "    }\n",
       "\n",
       "    .dataframe tbody tr th {\n",
       "        vertical-align: top;\n",
       "    }\n",
       "\n",
       "    .dataframe thead th {\n",
       "        text-align: right;\n",
       "    }\n",
       "</style>\n",
       "<table border=\"1\" class=\"dataframe\">\n",
       "  <thead>\n",
       "    <tr style=\"text-align: right;\">\n",
       "      <th></th>\n",
       "      <th>High</th>\n",
       "      <th>Low</th>\n",
       "      <th>Open</th>\n",
       "      <th>Close</th>\n",
       "      <th>Volume</th>\n",
       "      <th>Adj Close</th>\n",
       "    </tr>\n",
       "    <tr>\n",
       "      <th>Date</th>\n",
       "      <th></th>\n",
       "      <th></th>\n",
       "      <th></th>\n",
       "      <th></th>\n",
       "      <th></th>\n",
       "      <th></th>\n",
       "    </tr>\n",
       "  </thead>\n",
       "  <tbody>\n",
       "    <tr>\n",
       "      <th>2018-11-30</th>\n",
       "      <td>4.776</td>\n",
       "      <td>4.473</td>\n",
       "      <td>4.584</td>\n",
       "      <td>4.612</td>\n",
       "      <td>167700.0</td>\n",
       "      <td>4.612</td>\n",
       "    </tr>\n",
       "    <tr>\n",
       "      <th>2018-12-03</th>\n",
       "      <td>4.536</td>\n",
       "      <td>4.243</td>\n",
       "      <td>4.527</td>\n",
       "      <td>4.339</td>\n",
       "      <td>190568.0</td>\n",
       "      <td>4.339</td>\n",
       "    </tr>\n",
       "    <tr>\n",
       "      <th>2018-12-04</th>\n",
       "      <td>4.574</td>\n",
       "      <td>4.358</td>\n",
       "      <td>4.392</td>\n",
       "      <td>4.457</td>\n",
       "      <td>159868.0</td>\n",
       "      <td>4.457</td>\n",
       "    </tr>\n",
       "    <tr>\n",
       "      <th>2018-12-06</th>\n",
       "      <td>4.489</td>\n",
       "      <td>4.271</td>\n",
       "      <td>4.450</td>\n",
       "      <td>4.327</td>\n",
       "      <td>132563.0</td>\n",
       "      <td>4.327</td>\n",
       "    </tr>\n",
       "    <tr>\n",
       "      <th>2018-12-07</th>\n",
       "      <td>4.570</td>\n",
       "      <td>4.231</td>\n",
       "      <td>4.348</td>\n",
       "      <td>4.488</td>\n",
       "      <td>182159.0</td>\n",
       "      <td>4.488</td>\n",
       "    </tr>\n",
       "    <tr>\n",
       "      <th>...</th>\n",
       "      <td>...</td>\n",
       "      <td>...</td>\n",
       "      <td>...</td>\n",
       "      <td>...</td>\n",
       "      <td>...</td>\n",
       "      <td>...</td>\n",
       "    </tr>\n",
       "    <tr>\n",
       "      <th>2021-05-11</th>\n",
       "      <td>2.970</td>\n",
       "      <td>2.881</td>\n",
       "      <td>2.927</td>\n",
       "      <td>2.955</td>\n",
       "      <td>107218.0</td>\n",
       "      <td>2.955</td>\n",
       "    </tr>\n",
       "    <tr>\n",
       "      <th>2021-05-12</th>\n",
       "      <td>2.988</td>\n",
       "      <td>2.926</td>\n",
       "      <td>2.953</td>\n",
       "      <td>2.969</td>\n",
       "      <td>90583.0</td>\n",
       "      <td>2.969</td>\n",
       "    </tr>\n",
       "    <tr>\n",
       "      <th>2021-05-13</th>\n",
       "      <td>2.998</td>\n",
       "      <td>2.937</td>\n",
       "      <td>2.983</td>\n",
       "      <td>2.973</td>\n",
       "      <td>96118.0</td>\n",
       "      <td>2.973</td>\n",
       "    </tr>\n",
       "    <tr>\n",
       "      <th>2021-05-14</th>\n",
       "      <td>3.016</td>\n",
       "      <td>2.945</td>\n",
       "      <td>2.977</td>\n",
       "      <td>2.961</td>\n",
       "      <td>96118.0</td>\n",
       "      <td>2.961</td>\n",
       "    </tr>\n",
       "    <tr>\n",
       "      <th>2021-05-17</th>\n",
       "      <td>3.138</td>\n",
       "      <td>3.019</td>\n",
       "      <td>3.019</td>\n",
       "      <td>3.125</td>\n",
       "      <td>72828.0</td>\n",
       "      <td>3.125</td>\n",
       "    </tr>\n",
       "  </tbody>\n",
       "</table>\n",
       "<p>612 rows × 6 columns</p>\n",
       "</div>"
      ],
      "text/plain": [
       "             High    Low   Open  Close    Volume  Adj Close\n",
       "Date                                                       \n",
       "2018-11-30  4.776  4.473  4.584  4.612  167700.0      4.612\n",
       "2018-12-03  4.536  4.243  4.527  4.339  190568.0      4.339\n",
       "2018-12-04  4.574  4.358  4.392  4.457  159868.0      4.457\n",
       "2018-12-06  4.489  4.271  4.450  4.327  132563.0      4.327\n",
       "2018-12-07  4.570  4.231  4.348  4.488  182159.0      4.488\n",
       "...           ...    ...    ...    ...       ...        ...\n",
       "2021-05-11  2.970  2.881  2.927  2.955  107218.0      2.955\n",
       "2021-05-12  2.988  2.926  2.953  2.969   90583.0      2.969\n",
       "2021-05-13  2.998  2.937  2.983  2.973   96118.0      2.973\n",
       "2021-05-14  3.016  2.945  2.977  2.961   96118.0      2.961\n",
       "2021-05-17  3.138  3.019  3.019  3.125   72828.0      3.125\n",
       "\n",
       "[612 rows x 6 columns]"
      ]
     },
     "execution_count": 5,
     "metadata": {},
     "output_type": "execute_result"
    }
   ],
   "source": [
    "buy.stock_data"
   ]
  },
  {
   "cell_type": "code",
   "execution_count": 6,
   "id": "de95ed1f",
   "metadata": {},
   "outputs": [],
   "source": [
    "bhel = support_resistence.supportAndResistence(buy)"
   ]
  },
  {
   "cell_type": "code",
   "execution_count": 7,
   "id": "f97b8f72",
   "metadata": {},
   "outputs": [],
   "source": [
    "bhel.generateSignal()"
   ]
  },
  {
   "cell_type": "code",
   "execution_count": 8,
   "id": "921e4fff",
   "metadata": {},
   "outputs": [
    {
     "data": {
      "text/html": [
       "<div>\n",
       "<style scoped>\n",
       "    .dataframe tbody tr th:only-of-type {\n",
       "        vertical-align: middle;\n",
       "    }\n",
       "\n",
       "    .dataframe tbody tr th {\n",
       "        vertical-align: top;\n",
       "    }\n",
       "\n",
       "    .dataframe thead th {\n",
       "        text-align: right;\n",
       "    }\n",
       "</style>\n",
       "<table border=\"1\" class=\"dataframe\">\n",
       "  <thead>\n",
       "    <tr style=\"text-align: right;\">\n",
       "      <th></th>\n",
       "      <th>price</th>\n",
       "      <th>sup_tolerance</th>\n",
       "      <th>res_tolerance</th>\n",
       "      <th>sup_count</th>\n",
       "      <th>res_count</th>\n",
       "      <th>sup</th>\n",
       "      <th>res</th>\n",
       "      <th>positions</th>\n",
       "      <th>signal</th>\n",
       "      <th>Positions</th>\n",
       "    </tr>\n",
       "    <tr>\n",
       "      <th>Date</th>\n",
       "      <th></th>\n",
       "      <th></th>\n",
       "      <th></th>\n",
       "      <th></th>\n",
       "      <th></th>\n",
       "      <th></th>\n",
       "      <th></th>\n",
       "      <th></th>\n",
       "      <th></th>\n",
       "      <th></th>\n",
       "    </tr>\n",
       "  </thead>\n",
       "  <tbody>\n",
       "    <tr>\n",
       "      <th>2018-11-30</th>\n",
       "      <td>4.612</td>\n",
       "      <td>NaN</td>\n",
       "      <td>NaN</td>\n",
       "      <td>NaN</td>\n",
       "      <td>NaN</td>\n",
       "      <td>NaN</td>\n",
       "      <td>NaN</td>\n",
       "      <td>NaN</td>\n",
       "      <td>NaN</td>\n",
       "      <td>NaN</td>\n",
       "    </tr>\n",
       "    <tr>\n",
       "      <th>2018-12-03</th>\n",
       "      <td>4.339</td>\n",
       "      <td>NaN</td>\n",
       "      <td>NaN</td>\n",
       "      <td>NaN</td>\n",
       "      <td>NaN</td>\n",
       "      <td>NaN</td>\n",
       "      <td>NaN</td>\n",
       "      <td>NaN</td>\n",
       "      <td>NaN</td>\n",
       "      <td>NaN</td>\n",
       "    </tr>\n",
       "    <tr>\n",
       "      <th>2018-12-04</th>\n",
       "      <td>4.457</td>\n",
       "      <td>NaN</td>\n",
       "      <td>NaN</td>\n",
       "      <td>NaN</td>\n",
       "      <td>NaN</td>\n",
       "      <td>NaN</td>\n",
       "      <td>NaN</td>\n",
       "      <td>NaN</td>\n",
       "      <td>NaN</td>\n",
       "      <td>NaN</td>\n",
       "    </tr>\n",
       "    <tr>\n",
       "      <th>2018-12-06</th>\n",
       "      <td>4.327</td>\n",
       "      <td>NaN</td>\n",
       "      <td>NaN</td>\n",
       "      <td>NaN</td>\n",
       "      <td>NaN</td>\n",
       "      <td>NaN</td>\n",
       "      <td>NaN</td>\n",
       "      <td>NaN</td>\n",
       "      <td>NaN</td>\n",
       "      <td>NaN</td>\n",
       "    </tr>\n",
       "    <tr>\n",
       "      <th>2018-12-07</th>\n",
       "      <td>4.488</td>\n",
       "      <td>NaN</td>\n",
       "      <td>NaN</td>\n",
       "      <td>NaN</td>\n",
       "      <td>NaN</td>\n",
       "      <td>NaN</td>\n",
       "      <td>NaN</td>\n",
       "      <td>NaN</td>\n",
       "      <td>NaN</td>\n",
       "      <td>NaN</td>\n",
       "    </tr>\n",
       "    <tr>\n",
       "      <th>...</th>\n",
       "      <td>...</td>\n",
       "      <td>...</td>\n",
       "      <td>...</td>\n",
       "      <td>...</td>\n",
       "      <td>...</td>\n",
       "      <td>...</td>\n",
       "      <td>...</td>\n",
       "      <td>...</td>\n",
       "      <td>...</td>\n",
       "      <td>...</td>\n",
       "    </tr>\n",
       "    <tr>\n",
       "      <th>2021-05-11</th>\n",
       "      <td>2.955</td>\n",
       "      <td>2.6878</td>\n",
       "      <td>2.8972</td>\n",
       "      <td>NaN</td>\n",
       "      <td>21.0</td>\n",
       "      <td>2.618</td>\n",
       "      <td>2.967</td>\n",
       "      <td>NaN</td>\n",
       "      <td>1.0</td>\n",
       "      <td>0.0</td>\n",
       "    </tr>\n",
       "    <tr>\n",
       "      <th>2021-05-12</th>\n",
       "      <td>2.969</td>\n",
       "      <td>2.6882</td>\n",
       "      <td>2.8988</td>\n",
       "      <td>NaN</td>\n",
       "      <td>22.0</td>\n",
       "      <td>2.618</td>\n",
       "      <td>2.969</td>\n",
       "      <td>NaN</td>\n",
       "      <td>1.0</td>\n",
       "      <td>0.0</td>\n",
       "    </tr>\n",
       "    <tr>\n",
       "      <th>2021-05-13</th>\n",
       "      <td>2.973</td>\n",
       "      <td>2.7210</td>\n",
       "      <td>2.9100</td>\n",
       "      <td>NaN</td>\n",
       "      <td>23.0</td>\n",
       "      <td>2.658</td>\n",
       "      <td>2.973</td>\n",
       "      <td>NaN</td>\n",
       "      <td>1.0</td>\n",
       "      <td>0.0</td>\n",
       "    </tr>\n",
       "    <tr>\n",
       "      <th>2021-05-14</th>\n",
       "      <td>2.961</td>\n",
       "      <td>2.7386</td>\n",
       "      <td>2.9144</td>\n",
       "      <td>NaN</td>\n",
       "      <td>24.0</td>\n",
       "      <td>2.680</td>\n",
       "      <td>2.973</td>\n",
       "      <td>NaN</td>\n",
       "      <td>1.0</td>\n",
       "      <td>0.0</td>\n",
       "    </tr>\n",
       "    <tr>\n",
       "      <th>2021-05-17</th>\n",
       "      <td>3.125</td>\n",
       "      <td>2.7786</td>\n",
       "      <td>3.0384</td>\n",
       "      <td>NaN</td>\n",
       "      <td>25.0</td>\n",
       "      <td>2.692</td>\n",
       "      <td>3.125</td>\n",
       "      <td>NaN</td>\n",
       "      <td>1.0</td>\n",
       "      <td>0.0</td>\n",
       "    </tr>\n",
       "  </tbody>\n",
       "</table>\n",
       "<p>612 rows × 10 columns</p>\n",
       "</div>"
      ],
      "text/plain": [
       "            price  sup_tolerance  res_tolerance  sup_count  res_count    sup  \\\n",
       "Date                                                                           \n",
       "2018-11-30  4.612            NaN            NaN        NaN        NaN    NaN   \n",
       "2018-12-03  4.339            NaN            NaN        NaN        NaN    NaN   \n",
       "2018-12-04  4.457            NaN            NaN        NaN        NaN    NaN   \n",
       "2018-12-06  4.327            NaN            NaN        NaN        NaN    NaN   \n",
       "2018-12-07  4.488            NaN            NaN        NaN        NaN    NaN   \n",
       "...           ...            ...            ...        ...        ...    ...   \n",
       "2021-05-11  2.955         2.6878         2.8972        NaN       21.0  2.618   \n",
       "2021-05-12  2.969         2.6882         2.8988        NaN       22.0  2.618   \n",
       "2021-05-13  2.973         2.7210         2.9100        NaN       23.0  2.658   \n",
       "2021-05-14  2.961         2.7386         2.9144        NaN       24.0  2.680   \n",
       "2021-05-17  3.125         2.7786         3.0384        NaN       25.0  2.692   \n",
       "\n",
       "              res  positions  signal  Positions  \n",
       "Date                                             \n",
       "2018-11-30    NaN        NaN     NaN        NaN  \n",
       "2018-12-03    NaN        NaN     NaN        NaN  \n",
       "2018-12-04    NaN        NaN     NaN        NaN  \n",
       "2018-12-06    NaN        NaN     NaN        NaN  \n",
       "2018-12-07    NaN        NaN     NaN        NaN  \n",
       "...           ...        ...     ...        ...  \n",
       "2021-05-11  2.967        NaN     1.0        0.0  \n",
       "2021-05-12  2.969        NaN     1.0        0.0  \n",
       "2021-05-13  2.973        NaN     1.0        0.0  \n",
       "2021-05-14  2.973        NaN     1.0        0.0  \n",
       "2021-05-17  3.125        NaN     1.0        0.0  \n",
       "\n",
       "[612 rows x 10 columns]"
      ]
     },
     "execution_count": 8,
     "metadata": {},
     "output_type": "execute_result"
    }
   ],
   "source": [
    "bhel.signal"
   ]
  },
  {
   "cell_type": "code",
   "execution_count": 9,
   "id": "a7aedfa3",
   "metadata": {},
   "outputs": [
    {
     "data": {
      "text/plain": [
       "'Hold'"
      ]
     },
     "execution_count": 9,
     "metadata": {},
     "output_type": "execute_result"
    }
   ],
   "source": [
    "bhel.Call()"
   ]
  },
  {
   "cell_type": "code",
   "execution_count": 10,
   "id": "e9f2aede",
   "metadata": {},
   "outputs": [
    {
     "name": "stdout",
     "output_type": "stream",
     "text": [
      "Given most recent call on: 2021-04-15 00:00:00\n"
     ]
    },
    {
     "data": {
      "text/plain": [
       "'Buy'"
      ]
     },
     "execution_count": 10,
     "metadata": {},
     "output_type": "execute_result"
    }
   ],
   "source": [
    "bhel.mostRecentCall()"
   ]
  },
  {
   "cell_type": "code",
   "execution_count": 11,
   "id": "0a89c37a",
   "metadata": {},
   "outputs": [
    {
     "data": {
      "text/plain": [
       "2.937999963760376"
      ]
     },
     "execution_count": 11,
     "metadata": {},
     "output_type": "execute_result"
    }
   ],
   "source": [
    "bhel.stock_data.loc['2021-05-05 00:00:00','Adj Close']"
   ]
  },
  {
   "cell_type": "code",
   "execution_count": 15,
   "id": "f79a0d46",
   "metadata": {},
   "outputs": [
    {
     "data": {
      "image/png": "[encoded data removed]",
      "text/plain": [
       "<Figure size 432x288 with 1 Axes>"
      ]
     },
     "metadata": {
      "needs_background": "light"
     },
     "output_type": "display_data"
    }
   ],
   "source": [
    "import matplotlib.pyplot as plt\n",
    "fig = plt.figure()\n",
    "ax1 = fig.add_subplot(111, ylabel=symbol +' price in $')\n",
    "stock_signal['sup'].plot(ax=ax1, color='g', lw=2.)\n",
    "stock_signal['res'].plot(ax=ax1, color='b', lw=2.)\n",
    "stock_signal['price'].plot(ax=ax1, color='r', lw=2.)\n",
    "ax1.plot(stock_signal.loc[stock_signal.positions == 1.0].index,\n",
    "      stock_signal.price[stock_signal.positions == 1.0],\n",
    "      '^', markersize=7, color='k',label='buy')\n",
    "ax1.plot(stock_signal.loc[stock_signal.positions == -1.0].index,\n",
    "      stock_signal.price[stock_signal.positions == -1.0],\n",
    "      'v', markersize=7, color='k',label='sell')\n",
    "plt.legend()\n",
    "plt.show()"
   ]
  },
  {
   "cell_type": "code",
   "execution_count": 13,
   "id": "c8c00dbf",
   "metadata": {},
   "outputs": [],
   "source": [
    "stock_signal = bhel.signal"
   ]
  },
  {
   "cell_type": "code",
   "execution_count": null,
   "id": "1367bf25",
   "metadata": {},
   "outputs": [],
   "source": []
  }
 ],
 "metadata": {
  "kernelspec": {
   "display_name": "Python 3",
   "language": "python",
   "name": "python3"
  },
  "language_info": {
   "codemirror_mode": {
    "name": "ipython",
    "version": 3
   },
   "file_extension": ".py",
   "mimetype": "text/x-python",
   "name": "python",
   "nbconvert_exporter": "python",
   "pygments_lexer": "ipython3",
   "version": "3.9.4"
  }
 },
 "nbformat": 4,
 "nbformat_minor": 5
}
