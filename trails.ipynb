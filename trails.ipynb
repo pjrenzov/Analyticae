{
 "cells": [
  {
   "cell_type": "code",
   "execution_count": 1,
   "id": "0de4dc68",
   "metadata": {},
   "outputs": [],
   "source": [
    "from src import stock,blsh"
   ]
  },
  {
   "cell_type": "code",
   "execution_count": 2,
   "id": "4aa9855a",
   "metadata": {},
   "outputs": [],
   "source": [
    "symbol = 'SBICARD.NS'        #use yahoo symbols\n",
    "start_date = '2018-12-01'    #start dates for historical data\n",
    "end_date = '2021-01-01'"
   ]
  },
  {
   "cell_type": "code",
   "execution_count": 3,
   "id": "45f314ef",
   "metadata": {},
   "outputs": [],
   "source": [
    "buy = stock.Stock(symbol, start_date, end_date)"
   ]
  },
  {
   "cell_type": "code",
   "execution_count": 4,
   "id": "9fd5ed3e",
   "metadata": {},
   "outputs": [],
   "source": [
    "buy = blsh.BLSH(buy)"
   ]
  },
  {
   "cell_type": "code",
   "execution_count": 5,
   "id": "ffb7ee0e",
   "metadata": {},
   "outputs": [],
   "source": [
    "buy.generateSignal()"
   ]
  },
  {
   "cell_type": "code",
   "execution_count": 6,
   "id": "440fa678",
   "metadata": {},
   "outputs": [
    {
     "data": {
      "text/html": [
       "<div>\n",
       "<style scoped>\n",
       "    .dataframe tbody tr th:only-of-type {\n",
       "        vertical-align: middle;\n",
       "    }\n",
       "\n",
       "    .dataframe tbody tr th {\n",
       "        vertical-align: top;\n",
       "    }\n",
       "\n",
       "    .dataframe thead th {\n",
       "        text-align: right;\n",
       "    }\n",
       "</style>\n",
       "<table border=\"1\" class=\"dataframe\">\n",
       "  <thead>\n",
       "    <tr style=\"text-align: right;\">\n",
       "      <th></th>\n",
       "      <th>Price</th>\n",
       "      <th>Price Difference</th>\n",
       "      <th>Signal</th>\n",
       "      <th>Position</th>\n",
       "    </tr>\n",
       "    <tr>\n",
       "      <th>Date</th>\n",
       "      <th></th>\n",
       "      <th></th>\n",
       "      <th></th>\n",
       "      <th></th>\n",
       "    </tr>\n",
       "  </thead>\n",
       "  <tbody>\n",
       "    <tr>\n",
       "      <th>2020-03-16</th>\n",
       "      <td>680.135010</td>\n",
       "      <td>NaN</td>\n",
       "      <td>0.0</td>\n",
       "      <td>NaN</td>\n",
       "    </tr>\n",
       "    <tr>\n",
       "      <th>2020-03-17</th>\n",
       "      <td>729.543091</td>\n",
       "      <td>49.408081</td>\n",
       "      <td>1.0</td>\n",
       "      <td>1.0</td>\n",
       "    </tr>\n",
       "    <tr>\n",
       "      <th>2020-03-18</th>\n",
       "      <td>687.920532</td>\n",
       "      <td>-41.622559</td>\n",
       "      <td>0.0</td>\n",
       "      <td>-1.0</td>\n",
       "    </tr>\n",
       "    <tr>\n",
       "      <th>2020-03-19</th>\n",
       "      <td>690.765198</td>\n",
       "      <td>2.844666</td>\n",
       "      <td>1.0</td>\n",
       "      <td>1.0</td>\n",
       "    </tr>\n",
       "    <tr>\n",
       "      <th>2020-03-20</th>\n",
       "      <td>723.154968</td>\n",
       "      <td>32.389771</td>\n",
       "      <td>1.0</td>\n",
       "      <td>0.0</td>\n",
       "    </tr>\n",
       "    <tr>\n",
       "      <th>...</th>\n",
       "      <td>...</td>\n",
       "      <td>...</td>\n",
       "      <td>...</td>\n",
       "      <td>...</td>\n",
       "    </tr>\n",
       "    <tr>\n",
       "      <th>2020-12-28</th>\n",
       "      <td>840.000000</td>\n",
       "      <td>4.799988</td>\n",
       "      <td>1.0</td>\n",
       "      <td>0.0</td>\n",
       "    </tr>\n",
       "    <tr>\n",
       "      <th>2020-12-29</th>\n",
       "      <td>840.700012</td>\n",
       "      <td>0.700012</td>\n",
       "      <td>1.0</td>\n",
       "      <td>0.0</td>\n",
       "    </tr>\n",
       "    <tr>\n",
       "      <th>2020-12-30</th>\n",
       "      <td>850.849976</td>\n",
       "      <td>10.149963</td>\n",
       "      <td>1.0</td>\n",
       "      <td>0.0</td>\n",
       "    </tr>\n",
       "    <tr>\n",
       "      <th>2020-12-31</th>\n",
       "      <td>851.049988</td>\n",
       "      <td>0.200012</td>\n",
       "      <td>1.0</td>\n",
       "      <td>0.0</td>\n",
       "    </tr>\n",
       "    <tr>\n",
       "      <th>2021-01-01</th>\n",
       "      <td>852.849976</td>\n",
       "      <td>1.799988</td>\n",
       "      <td>1.0</td>\n",
       "      <td>0.0</td>\n",
       "    </tr>\n",
       "  </tbody>\n",
       "</table>\n",
       "<p>200 rows × 4 columns</p>\n",
       "</div>"
      ],
      "text/plain": [
       "                 Price  Price Difference  Signal  Position\n",
       "Date                                                      \n",
       "2020-03-16  680.135010               NaN     0.0       NaN\n",
       "2020-03-17  729.543091         49.408081     1.0       1.0\n",
       "2020-03-18  687.920532        -41.622559     0.0      -1.0\n",
       "2020-03-19  690.765198          2.844666     1.0       1.0\n",
       "2020-03-20  723.154968         32.389771     1.0       0.0\n",
       "...                ...               ...     ...       ...\n",
       "2020-12-28  840.000000          4.799988     1.0       0.0\n",
       "2020-12-29  840.700012          0.700012     1.0       0.0\n",
       "2020-12-30  850.849976         10.149963     1.0       0.0\n",
       "2020-12-31  851.049988          0.200012     1.0       0.0\n",
       "2021-01-01  852.849976          1.799988     1.0       0.0\n",
       "\n",
       "[200 rows x 4 columns]"
      ]
     },
     "execution_count": 6,
     "metadata": {},
     "output_type": "execute_result"
    }
   ],
   "source": [
    "buy.signal"
   ]
  },
  {
   "cell_type": "code",
   "execution_count": 7,
   "id": "d8b09764",
   "metadata": {},
   "outputs": [
    {
     "data": {
      "text/plain": [
       "'Hold'"
      ]
     },
     "execution_count": 7,
     "metadata": {},
     "output_type": "execute_result"
    }
   ],
   "source": [
    "buy.Call()"
   ]
  },
  {
   "cell_type": "code",
   "execution_count": 8,
   "id": "d5a0515e",
   "metadata": {},
   "outputs": [
    {
     "data": {
      "text/plain": [
       "'Buy'"
      ]
     },
     "execution_count": 8,
     "metadata": {},
     "output_type": "execute_result"
    }
   ],
   "source": [
    "buy.mostRecentCall()"
   ]
  },
  {
   "cell_type": "code",
   "execution_count": 9,
   "id": "da008ba6",
   "metadata": {},
   "outputs": [],
   "source": [
    "buy.makePortfolio(capital=1000.0)"
   ]
  },
  {
   "cell_type": "code",
   "execution_count": 10,
   "id": "d9cfcd5a",
   "metadata": {},
   "outputs": [
    {
     "name": "stdout",
     "output_type": "stream",
     "text": [
      "             positions        cash        total\n",
      "Date                                           \n",
      "2020-03-16    0.000000         NaN          NaN\n",
      "2020-03-17  729.543091  270.456909  1000.000000\n",
      "2020-03-18    0.000000  958.377441   958.377441\n",
      "2020-03-19  690.765198  267.612244   958.377441\n",
      "2020-03-20  723.154968  267.612244   990.767212\n",
      "...                ...         ...          ...\n",
      "2020-12-28  840.000000  203.687683  1043.687683\n",
      "2020-12-29  840.700012  203.687683  1044.387695\n",
      "2020-12-30  850.849976  203.687683  1054.537659\n",
      "2020-12-31  851.049988  203.687683  1054.737671\n",
      "2021-01-01  852.849976  203.687683  1056.537659\n",
      "\n",
      "[200 rows x 3 columns]\n"
     ]
    }
   ],
   "source": [
    "print(buy.portfolio)"
   ]
  },
  {
   "cell_type": "code",
   "execution_count": 11,
   "id": "de827d37",
   "metadata": {},
   "outputs": [
    {
     "data": {
      "text/plain": [
       "56.53765869140625"
      ]
     },
     "execution_count": 11,
     "metadata": {},
     "output_type": "execute_result"
    }
   ],
   "source": [
    "buy.profit()"
   ]
  },
  {
   "cell_type": "code",
   "execution_count": 12,
   "id": "644d9c75",
   "metadata": {},
   "outputs": [
    {
     "data": {
      "text/plain": [
       "0.0831271113523316"
      ]
     },
     "execution_count": 12,
     "metadata": {},
     "output_type": "execute_result"
    }
   ],
   "source": [
    "buy.percentageReturn()"
   ]
  },
  {
   "cell_type": "code",
   "execution_count": 13,
   "id": "39f17c08",
   "metadata": {},
   "outputs": [
    {
     "data": {
      "text/html": [
       "<div>\n",
       "<style scoped>\n",
       "    .dataframe tbody tr th:only-of-type {\n",
       "        vertical-align: middle;\n",
       "    }\n",
       "\n",
       "    .dataframe tbody tr th {\n",
       "        vertical-align: top;\n",
       "    }\n",
       "\n",
       "    .dataframe thead th {\n",
       "        text-align: right;\n",
       "    }\n",
       "</style>\n",
       "<table border=\"1\" class=\"dataframe\">\n",
       "  <thead>\n",
       "    <tr style=\"text-align: right;\">\n",
       "      <th></th>\n",
       "      <th>Price</th>\n",
       "      <th>Price Difference</th>\n",
       "      <th>Signal</th>\n",
       "      <th>Position</th>\n",
       "    </tr>\n",
       "    <tr>\n",
       "      <th>Date</th>\n",
       "      <th></th>\n",
       "      <th></th>\n",
       "      <th></th>\n",
       "      <th></th>\n",
       "    </tr>\n",
       "  </thead>\n",
       "  <tbody>\n",
       "    <tr>\n",
       "      <th>2020-03-16</th>\n",
       "      <td>680.135010</td>\n",
       "      <td>NaN</td>\n",
       "      <td>0.0</td>\n",
       "      <td>NaN</td>\n",
       "    </tr>\n",
       "    <tr>\n",
       "      <th>2020-03-17</th>\n",
       "      <td>729.543091</td>\n",
       "      <td>49.408081</td>\n",
       "      <td>1.0</td>\n",
       "      <td>1.0</td>\n",
       "    </tr>\n",
       "    <tr>\n",
       "      <th>2020-03-18</th>\n",
       "      <td>687.920532</td>\n",
       "      <td>-41.622559</td>\n",
       "      <td>0.0</td>\n",
       "      <td>-1.0</td>\n",
       "    </tr>\n",
       "    <tr>\n",
       "      <th>2020-03-19</th>\n",
       "      <td>690.765198</td>\n",
       "      <td>2.844666</td>\n",
       "      <td>1.0</td>\n",
       "      <td>1.0</td>\n",
       "    </tr>\n",
       "    <tr>\n",
       "      <th>2020-03-20</th>\n",
       "      <td>723.154968</td>\n",
       "      <td>32.389771</td>\n",
       "      <td>1.0</td>\n",
       "      <td>0.0</td>\n",
       "    </tr>\n",
       "    <tr>\n",
       "      <th>...</th>\n",
       "      <td>...</td>\n",
       "      <td>...</td>\n",
       "      <td>...</td>\n",
       "      <td>...</td>\n",
       "    </tr>\n",
       "    <tr>\n",
       "      <th>2020-12-28</th>\n",
       "      <td>840.000000</td>\n",
       "      <td>4.799988</td>\n",
       "      <td>1.0</td>\n",
       "      <td>0.0</td>\n",
       "    </tr>\n",
       "    <tr>\n",
       "      <th>2020-12-29</th>\n",
       "      <td>840.700012</td>\n",
       "      <td>0.700012</td>\n",
       "      <td>1.0</td>\n",
       "      <td>0.0</td>\n",
       "    </tr>\n",
       "    <tr>\n",
       "      <th>2020-12-30</th>\n",
       "      <td>850.849976</td>\n",
       "      <td>10.149963</td>\n",
       "      <td>1.0</td>\n",
       "      <td>0.0</td>\n",
       "    </tr>\n",
       "    <tr>\n",
       "      <th>2020-12-31</th>\n",
       "      <td>851.049988</td>\n",
       "      <td>0.200012</td>\n",
       "      <td>1.0</td>\n",
       "      <td>0.0</td>\n",
       "    </tr>\n",
       "    <tr>\n",
       "      <th>2021-01-01</th>\n",
       "      <td>852.849976</td>\n",
       "      <td>1.799988</td>\n",
       "      <td>1.0</td>\n",
       "      <td>0.0</td>\n",
       "    </tr>\n",
       "  </tbody>\n",
       "</table>\n",
       "<p>200 rows × 4 columns</p>\n",
       "</div>"
      ],
      "text/plain": [
       "                 Price  Price Difference  Signal  Position\n",
       "Date                                                      \n",
       "2020-03-16  680.135010               NaN     0.0       NaN\n",
       "2020-03-17  729.543091         49.408081     1.0       1.0\n",
       "2020-03-18  687.920532        -41.622559     0.0      -1.0\n",
       "2020-03-19  690.765198          2.844666     1.0       1.0\n",
       "2020-03-20  723.154968         32.389771     1.0       0.0\n",
       "...                ...               ...     ...       ...\n",
       "2020-12-28  840.000000          4.799988     1.0       0.0\n",
       "2020-12-29  840.700012          0.700012     1.0       0.0\n",
       "2020-12-30  850.849976         10.149963     1.0       0.0\n",
       "2020-12-31  851.049988          0.200012     1.0       0.0\n",
       "2021-01-01  852.849976          1.799988     1.0       0.0\n",
       "\n",
       "[200 rows x 4 columns]"
      ]
     },
     "execution_count": 13,
     "metadata": {},
     "output_type": "execute_result"
    }
   ],
   "source": [
    "buy.signal"
   ]
  },
  {
   "cell_type": "code",
   "execution_count": null,
   "id": "6a50abb4",
   "metadata": {},
   "outputs": [],
   "source": []
  }
 ],
 "metadata": {
  "kernelspec": {
   "display_name": "Python 3",
   "language": "python",
   "name": "python3"
  },
  "language_info": {
   "codemirror_mode": {
    "name": "ipython",
    "version": 3
   },
   "file_extension": ".py",
   "mimetype": "text/x-python",
   "name": "python",
   "nbconvert_exporter": "python",
   "pygments_lexer": "ipython3",
   "version": "3.9.4"
  }
 },
 "nbformat": 4,
 "nbformat_minor": 5
}
