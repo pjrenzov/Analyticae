{
 "cells": [
  {
   "cell_type": "code",
   "execution_count": 7,
   "id": "43e4f5e5",
   "metadata": {},
   "outputs": [],
   "source": [
    "from src import stock,blsh"
   ]
  },
  {
   "cell_type": "code",
   "execution_count": 2,
   "id": "37a82b73",
   "metadata": {},
   "outputs": [],
   "source": [
    "symbol = 'SBICARD.NS'        #use yahoo symbols\n",
    "start_date = '2018-12-01'    #start dates for historical data\n",
    "end_date = '2021-01-01'"
   ]
  },
  {
   "cell_type": "code",
   "execution_count": 3,
   "id": "10fa0e1f",
   "metadata": {},
   "outputs": [],
   "source": [
    "buy = stock.Stock(symbol, start_date, end_date)"
   ]
  },
  {
   "cell_type": "code",
   "execution_count": 4,
   "id": "8b454211",
   "metadata": {},
   "outputs": [],
   "source": [
    "buy.load_data()"
   ]
  },
  {
   "cell_type": "code",
   "execution_count": null,
   "id": "3d318ac3",
   "metadata": {},
   "outputs": [],
   "source": []
  }
 ],
 "metadata": {
  "kernelspec": {
   "display_name": "Python 3",
   "language": "python",
   "name": "python3"
  },
  "language_info": {
   "codemirror_mode": {
    "name": "ipython",
    "version": 3
   },
   "file_extension": ".py",
   "mimetype": "text/x-python",
   "name": "python",
   "nbconvert_exporter": "python",
   "pygments_lexer": "ipython3",
   "version": "3.9.4"
  }
 },
 "nbformat": 4,
 "nbformat_minor": 5
}
