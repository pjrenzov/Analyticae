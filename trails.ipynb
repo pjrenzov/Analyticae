{
 "cells": [
  {
   "cell_type": "code",
   "execution_count": 1,
   "id": "b884c079",
   "metadata": {},
   "outputs": [],
   "source": [
    "from src import stock,blsh,support_resistence"
   ]
  },
  {
   "cell_type": "code",
   "execution_count": 2,
   "id": "7ac4f99a",
   "metadata": {},
   "outputs": [],
   "source": [
    "symbol = 'TATAMOTORS.NS'        #use yahoo symbols\n",
    "start_date = '2018-12-01'    #start dates for historical data\n",
    "end_date = '2021-04-17'"
   ]
  },
  {
   "cell_type": "code",
   "execution_count": 3,
   "id": "8a060342",
   "metadata": {},
   "outputs": [],
   "source": [
    "buy = stock.Stock(symbol, start_date, end_date)"
   ]
  },
  {
   "cell_type": "code",
   "execution_count": 4,
   "id": "16f2cffa",
   "metadata": {},
   "outputs": [],
   "source": [
    "buy.load_data()"
   ]
  },
  {
   "cell_type": "code",
   "execution_count": 5,
   "id": "25a917d9",
   "metadata": {},
   "outputs": [
    {
     "data": {
      "text/html": [
       "<div>\n",
       "<style scoped>\n",
       "    .dataframe tbody tr th:only-of-type {\n",
       "        vertical-align: middle;\n",
       "    }\n",
       "\n",
       "    .dataframe tbody tr th {\n",
       "        vertical-align: top;\n",
       "    }\n",
       "\n",
       "    .dataframe thead th {\n",
       "        text-align: right;\n",
       "    }\n",
       "</style>\n",
       "<table border=\"1\" class=\"dataframe\">\n",
       "  <thead>\n",
       "    <tr style=\"text-align: right;\">\n",
       "      <th></th>\n",
       "      <th>High</th>\n",
       "      <th>Low</th>\n",
       "      <th>Open</th>\n",
       "      <th>Close</th>\n",
       "      <th>Volume</th>\n",
       "      <th>Adj Close</th>\n",
       "    </tr>\n",
       "    <tr>\n",
       "      <th>Date</th>\n",
       "      <th></th>\n",
       "      <th></th>\n",
       "      <th></th>\n",
       "      <th></th>\n",
       "      <th></th>\n",
       "      <th></th>\n",
       "    </tr>\n",
       "  </thead>\n",
       "  <tbody>\n",
       "    <tr>\n",
       "      <th>2018-12-03</th>\n",
       "      <td>176.449997</td>\n",
       "      <td>170.000000</td>\n",
       "      <td>173.250000</td>\n",
       "      <td>175.449997</td>\n",
       "      <td>14068885.0</td>\n",
       "      <td>175.449997</td>\n",
       "    </tr>\n",
       "    <tr>\n",
       "      <th>2018-12-04</th>\n",
       "      <td>178.750000</td>\n",
       "      <td>175.300003</td>\n",
       "      <td>177.949997</td>\n",
       "      <td>175.750000</td>\n",
       "      <td>11481923.0</td>\n",
       "      <td>175.750000</td>\n",
       "    </tr>\n",
       "    <tr>\n",
       "      <th>2018-12-05</th>\n",
       "      <td>173.000000</td>\n",
       "      <td>168.600006</td>\n",
       "      <td>173.000000</td>\n",
       "      <td>169.199997</td>\n",
       "      <td>14960527.0</td>\n",
       "      <td>169.199997</td>\n",
       "    </tr>\n",
       "    <tr>\n",
       "      <th>2018-12-06</th>\n",
       "      <td>168.699997</td>\n",
       "      <td>161.600006</td>\n",
       "      <td>168.500000</td>\n",
       "      <td>162.649994</td>\n",
       "      <td>15428019.0</td>\n",
       "      <td>162.649994</td>\n",
       "    </tr>\n",
       "    <tr>\n",
       "      <th>2018-12-07</th>\n",
       "      <td>164.199997</td>\n",
       "      <td>160.800003</td>\n",
       "      <td>162.250000</td>\n",
       "      <td>162.399994</td>\n",
       "      <td>13545006.0</td>\n",
       "      <td>162.399994</td>\n",
       "    </tr>\n",
       "    <tr>\n",
       "      <th>...</th>\n",
       "      <td>...</td>\n",
       "      <td>...</td>\n",
       "      <td>...</td>\n",
       "      <td>...</td>\n",
       "      <td>...</td>\n",
       "      <td>...</td>\n",
       "    </tr>\n",
       "    <tr>\n",
       "      <th>2021-04-09</th>\n",
       "      <td>325.000000</td>\n",
       "      <td>312.500000</td>\n",
       "      <td>313.200012</td>\n",
       "      <td>318.200012</td>\n",
       "      <td>75462572.0</td>\n",
       "      <td>318.200012</td>\n",
       "    </tr>\n",
       "    <tr>\n",
       "      <th>2021-04-12</th>\n",
       "      <td>307.850006</td>\n",
       "      <td>282.899994</td>\n",
       "      <td>307.850006</td>\n",
       "      <td>286.549988</td>\n",
       "      <td>105342538.0</td>\n",
       "      <td>286.549988</td>\n",
       "    </tr>\n",
       "    <tr>\n",
       "      <th>2021-04-13</th>\n",
       "      <td>304.549988</td>\n",
       "      <td>280.549988</td>\n",
       "      <td>287.250000</td>\n",
       "      <td>302.850006</td>\n",
       "      <td>116874853.0</td>\n",
       "      <td>302.850006</td>\n",
       "    </tr>\n",
       "    <tr>\n",
       "      <th>2021-04-15</th>\n",
       "      <td>307.549988</td>\n",
       "      <td>296.500000</td>\n",
       "      <td>303.000000</td>\n",
       "      <td>303.500000</td>\n",
       "      <td>75262749.0</td>\n",
       "      <td>303.500000</td>\n",
       "    </tr>\n",
       "    <tr>\n",
       "      <th>2021-04-16</th>\n",
       "      <td>315.000000</td>\n",
       "      <td>300.149994</td>\n",
       "      <td>302.000000</td>\n",
       "      <td>310.000000</td>\n",
       "      <td>75330709.0</td>\n",
       "      <td>310.000000</td>\n",
       "    </tr>\n",
       "  </tbody>\n",
       "</table>\n",
       "<p>583 rows × 6 columns</p>\n",
       "</div>"
      ],
      "text/plain": [
       "                  High         Low        Open       Close       Volume  \\\n",
       "Date                                                                      \n",
       "2018-12-03  176.449997  170.000000  173.250000  175.449997   14068885.0   \n",
       "2018-12-04  178.750000  175.300003  177.949997  175.750000   11481923.0   \n",
       "2018-12-05  173.000000  168.600006  173.000000  169.199997   14960527.0   \n",
       "2018-12-06  168.699997  161.600006  168.500000  162.649994   15428019.0   \n",
       "2018-12-07  164.199997  160.800003  162.250000  162.399994   13545006.0   \n",
       "...                ...         ...         ...         ...          ...   \n",
       "2021-04-09  325.000000  312.500000  313.200012  318.200012   75462572.0   \n",
       "2021-04-12  307.850006  282.899994  307.850006  286.549988  105342538.0   \n",
       "2021-04-13  304.549988  280.549988  287.250000  302.850006  116874853.0   \n",
       "2021-04-15  307.549988  296.500000  303.000000  303.500000   75262749.0   \n",
       "2021-04-16  315.000000  300.149994  302.000000  310.000000   75330709.0   \n",
       "\n",
       "             Adj Close  \n",
       "Date                    \n",
       "2018-12-03  175.449997  \n",
       "2018-12-04  175.750000  \n",
       "2018-12-05  169.199997  \n",
       "2018-12-06  162.649994  \n",
       "2018-12-07  162.399994  \n",
       "...                ...  \n",
       "2021-04-09  318.200012  \n",
       "2021-04-12  286.549988  \n",
       "2021-04-13  302.850006  \n",
       "2021-04-15  303.500000  \n",
       "2021-04-16  310.000000  \n",
       "\n",
       "[583 rows x 6 columns]"
      ]
     },
     "execution_count": 5,
     "metadata": {},
     "output_type": "execute_result"
    }
   ],
   "source": [
    "buy.stock_data"
   ]
  },
  {
   "cell_type": "code",
   "execution_count": 6,
   "id": "2a71ef61",
   "metadata": {},
   "outputs": [],
   "source": [
    "buy.SMA()"
   ]
  },
  {
   "cell_type": "code",
   "execution_count": 7,
   "id": "252670f1",
   "metadata": {},
   "outputs": [],
   "source": [
    "buy.EMA()"
   ]
  },
  {
   "cell_type": "code",
   "execution_count": 8,
   "id": "8a11354c",
   "metadata": {},
   "outputs": [],
   "source": [
    "buy.APO()"
   ]
  },
  {
   "cell_type": "code",
   "execution_count": 9,
   "id": "fa40feb1",
   "metadata": {},
   "outputs": [],
   "source": [
    "buy.MACD()"
   ]
  },
  {
   "cell_type": "code",
   "execution_count": 10,
   "id": "7c95e74a",
   "metadata": {},
   "outputs": [],
   "source": [
    "buy.bBand()"
   ]
  },
  {
   "cell_type": "code",
   "execution_count": 11,
   "id": "1a135297",
   "metadata": {},
   "outputs": [],
   "source": [
    "buy.RSI()"
   ]
  },
  {
   "cell_type": "code",
   "execution_count": 12,
   "id": "745495aa",
   "metadata": {},
   "outputs": [],
   "source": [
    "buy.standardDeviation()"
   ]
  },
  {
   "cell_type": "code",
   "execution_count": 13,
   "id": "783271f0",
   "metadata": {},
   "outputs": [],
   "source": [
    "buy.momentum()"
   ]
  },
  {
   "cell_type": "code",
   "execution_count": 14,
   "id": "70508109",
   "metadata": {},
   "outputs": [],
   "source": [
    "buy = support_resistence.supportAndResistence(buy)"
   ]
  },
  {
   "cell_type": "code",
   "execution_count": 15,
   "id": "4c8331d3",
   "metadata": {},
   "outputs": [],
   "source": [
    "buy.generateSignal()"
   ]
  },
  {
   "cell_type": "code",
   "execution_count": 16,
   "id": "e4409f9a",
   "metadata": {},
   "outputs": [
    {
     "data": {
      "text/plain": [
       "'Hold'"
      ]
     },
     "execution_count": 16,
     "metadata": {},
     "output_type": "execute_result"
    }
   ],
   "source": [
    "buy.Call()"
   ]
  },
  {
   "cell_type": "code",
   "execution_count": 17,
   "id": "920cbc23",
   "metadata": {},
   "outputs": [
    {
     "data": {
      "text/plain": [
       "'Sell'"
      ]
     },
     "execution_count": 17,
     "metadata": {},
     "output_type": "execute_result"
    }
   ],
   "source": [
    "buy.mostRecentCall()"
   ]
  },
  {
   "cell_type": "code",
   "execution_count": 18,
   "id": "525d7a21",
   "metadata": {},
   "outputs": [],
   "source": [
    "buy.makePortfolio()"
   ]
  },
  {
   "cell_type": "code",
   "execution_count": 19,
   "id": "41b2e08f",
   "metadata": {},
   "outputs": [
    {
     "data": {
      "text/plain": [
       "180.50003051757812"
      ]
     },
     "execution_count": 19,
     "metadata": {},
     "output_type": "execute_result"
    }
   ],
   "source": [
    "buy.profit()"
   ]
  },
  {
   "cell_type": "code",
   "execution_count": null,
   "id": "7eff755b",
   "metadata": {},
   "outputs": [],
   "source": []
  }
 ],
 "metadata": {
  "kernelspec": {
   "display_name": "Python 3",
   "language": "python",
   "name": "python3"
  },
  "language_info": {
   "codemirror_mode": {
    "name": "ipython",
    "version": 3
   },
   "file_extension": ".py",
   "mimetype": "text/x-python",
   "name": "python",
   "nbconvert_exporter": "python",
   "pygments_lexer": "ipython3",
   "version": "3.9.4"
  }
 },
 "nbformat": 4,
 "nbformat_minor": 5
}
